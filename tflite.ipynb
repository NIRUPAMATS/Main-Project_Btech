{
  "cells": [
    {
      "cell_type": "code",
      "execution_count": null,
      "metadata": {
        "colab": {
          "base_uri": "https://localhost:8080/"
        },
        "id": "juSBPvviYstR",
        "outputId": "ad6a0b8f-2ad9-4be1-fed0-2e2513a2a14e"
      },
      "outputs": [
        {
          "name": "stdout",
          "output_type": "stream",
          "text": [
            "Requirement already satisfied: keras-squeezenet in /usr/local/lib/python3.10/dist-packages (0.4)\n",
            "Requirement already satisfied: numpy>=1.9.1 in /usr/local/lib/python3.10/dist-packages (from keras-squeezenet) (1.25.2)\n",
            "Requirement already satisfied: scipy>=0.14 in /usr/local/lib/python3.10/dist-packages (from keras-squeezenet) (1.11.4)\n",
            "Requirement already satisfied: h5py in /usr/local/lib/python3.10/dist-packages (from keras-squeezenet) (3.9.0)\n",
            "Requirement already satisfied: tensorflow in /usr/local/lib/python3.10/dist-packages (from keras-squeezenet) (2.15.0)\n",
            "Requirement already satisfied: keras in /usr/local/lib/python3.10/dist-packages (from keras-squeezenet) (2.15.0)\n",
            "Requirement already satisfied: six>=1.9.0 in /usr/local/lib/python3.10/dist-packages (from keras-squeezenet) (1.16.0)\n",
            "Requirement already satisfied: pyyaml in /usr/local/lib/python3.10/dist-packages (from keras-squeezenet) (6.0.1)\n",
            "Requirement already satisfied: absl-py>=1.0.0 in /usr/local/lib/python3.10/dist-packages (from tensorflow->keras-squeezenet) (1.4.0)\n",
            "Requirement already satisfied: astunparse>=1.6.0 in /usr/local/lib/python3.10/dist-packages (from tensorflow->keras-squeezenet) (1.6.3)\n",
            "Requirement already satisfied: flatbuffers>=23.5.26 in /usr/local/lib/python3.10/dist-packages (from tensorflow->keras-squeezenet) (24.3.25)\n",
            "Requirement already satisfied: gast!=0.5.0,!=0.5.1,!=0.5.2,>=0.2.1 in /usr/local/lib/python3.10/dist-packages (from tensorflow->keras-squeezenet) (0.5.4)\n",
            "Requirement already satisfied: google-pasta>=0.1.1 in /usr/local/lib/python3.10/dist-packages (from tensorflow->keras-squeezenet) (0.2.0)\n",
            "Requirement already satisfied: libclang>=13.0.0 in /usr/local/lib/python3.10/dist-packages (from tensorflow->keras-squeezenet) (18.1.1)\n",
            "Requirement already satisfied: ml-dtypes~=0.2.0 in /usr/local/lib/python3.10/dist-packages (from tensorflow->keras-squeezenet) (0.2.0)\n",
            "Requirement already satisfied: opt-einsum>=2.3.2 in /usr/local/lib/python3.10/dist-packages (from tensorflow->keras-squeezenet) (3.3.0)\n",
            "Requirement already satisfied: packaging in /usr/local/lib/python3.10/dist-packages (from tensorflow->keras-squeezenet) (24.0)\n",
            "Requirement already satisfied: protobuf!=4.21.0,!=4.21.1,!=4.21.2,!=4.21.3,!=4.21.4,!=4.21.5,<5.0.0dev,>=3.20.3 in /usr/local/lib/python3.10/dist-packages (from tensorflow->keras-squeezenet) (3.20.3)\n",
            "Requirement already satisfied: setuptools in /usr/local/lib/python3.10/dist-packages (from tensorflow->keras-squeezenet) (67.7.2)\n",
            "Requirement already satisfied: termcolor>=1.1.0 in /usr/local/lib/python3.10/dist-packages (from tensorflow->keras-squeezenet) (2.4.0)\n",
            "Requirement already satisfied: typing-extensions>=3.6.6 in /usr/local/lib/python3.10/dist-packages (from tensorflow->keras-squeezenet) (4.11.0)\n",
            "Requirement already satisfied: wrapt<1.15,>=1.11.0 in /usr/local/lib/python3.10/dist-packages (from tensorflow->keras-squeezenet) (1.14.1)\n",
            "Requirement already satisfied: tensorflow-io-gcs-filesystem>=0.23.1 in /usr/local/lib/python3.10/dist-packages (from tensorflow->keras-squeezenet) (0.36.0)\n",
            "Requirement already satisfied: grpcio<2.0,>=1.24.3 in /usr/local/lib/python3.10/dist-packages (from tensorflow->keras-squeezenet) (1.62.1)\n",
            "Requirement already satisfied: tensorboard<2.16,>=2.15 in /usr/local/lib/python3.10/dist-packages (from tensorflow->keras-squeezenet) (2.15.2)\n",
            "Requirement already satisfied: tensorflow-estimator<2.16,>=2.15.0 in /usr/local/lib/python3.10/dist-packages (from tensorflow->keras-squeezenet) (2.15.0)\n",
            "Requirement already satisfied: wheel<1.0,>=0.23.0 in /usr/local/lib/python3.10/dist-packages (from astunparse>=1.6.0->tensorflow->keras-squeezenet) (0.43.0)\n",
            "Requirement already satisfied: google-auth<3,>=1.6.3 in /usr/local/lib/python3.10/dist-packages (from tensorboard<2.16,>=2.15->tensorflow->keras-squeezenet) (2.27.0)\n",
            "Requirement already satisfied: google-auth-oauthlib<2,>=0.5 in /usr/local/lib/python3.10/dist-packages (from tensorboard<2.16,>=2.15->tensorflow->keras-squeezenet) (1.2.0)\n",
            "Requirement already satisfied: markdown>=2.6.8 in /usr/local/lib/python3.10/dist-packages (from tensorboard<2.16,>=2.15->tensorflow->keras-squeezenet) (3.6)\n",
            "Requirement already satisfied: requests<3,>=2.21.0 in /usr/local/lib/python3.10/dist-packages (from tensorboard<2.16,>=2.15->tensorflow->keras-squeezenet) (2.31.0)\n",
            "Requirement already satisfied: tensorboard-data-server<0.8.0,>=0.7.0 in /usr/local/lib/python3.10/dist-packages (from tensorboard<2.16,>=2.15->tensorflow->keras-squeezenet) (0.7.2)\n",
            "Requirement already satisfied: werkzeug>=1.0.1 in /usr/local/lib/python3.10/dist-packages (from tensorboard<2.16,>=2.15->tensorflow->keras-squeezenet) (3.0.2)\n",
            "Requirement already satisfied: cachetools<6.0,>=2.0.0 in /usr/local/lib/python3.10/dist-packages (from google-auth<3,>=1.6.3->tensorboard<2.16,>=2.15->tensorflow->keras-squeezenet) (5.3.3)\n",
            "Requirement already satisfied: pyasn1-modules>=0.2.1 in /usr/local/lib/python3.10/dist-packages (from google-auth<3,>=1.6.3->tensorboard<2.16,>=2.15->tensorflow->keras-squeezenet) (0.4.0)\n",
            "Requirement already satisfied: rsa<5,>=3.1.4 in /usr/local/lib/python3.10/dist-packages (from google-auth<3,>=1.6.3->tensorboard<2.16,>=2.15->tensorflow->keras-squeezenet) (4.9)\n",
            "Requirement already satisfied: requests-oauthlib>=0.7.0 in /usr/local/lib/python3.10/dist-packages (from google-auth-oauthlib<2,>=0.5->tensorboard<2.16,>=2.15->tensorflow->keras-squeezenet) (1.3.1)\n",
            "Requirement already satisfied: charset-normalizer<4,>=2 in /usr/local/lib/python3.10/dist-packages (from requests<3,>=2.21.0->tensorboard<2.16,>=2.15->tensorflow->keras-squeezenet) (3.3.2)\n",
            "Requirement already satisfied: idna<4,>=2.5 in /usr/local/lib/python3.10/dist-packages (from requests<3,>=2.21.0->tensorboard<2.16,>=2.15->tensorflow->keras-squeezenet) (3.6)\n",
            "Requirement already satisfied: urllib3<3,>=1.21.1 in /usr/local/lib/python3.10/dist-packages (from requests<3,>=2.21.0->tensorboard<2.16,>=2.15->tensorflow->keras-squeezenet) (2.0.7)\n",
            "Requirement already satisfied: certifi>=2017.4.17 in /usr/local/lib/python3.10/dist-packages (from requests<3,>=2.21.0->tensorboard<2.16,>=2.15->tensorflow->keras-squeezenet) (2024.2.2)\n",
            "Requirement already satisfied: MarkupSafe>=2.1.1 in /usr/local/lib/python3.10/dist-packages (from werkzeug>=1.0.1->tensorboard<2.16,>=2.15->tensorflow->keras-squeezenet) (2.1.5)\n",
            "Requirement already satisfied: pyasn1<0.7.0,>=0.4.6 in /usr/local/lib/python3.10/dist-packages (from pyasn1-modules>=0.2.1->google-auth<3,>=1.6.3->tensorboard<2.16,>=2.15->tensorflow->keras-squeezenet) (0.6.0)\n",
            "Requirement already satisfied: oauthlib>=3.0.0 in /usr/local/lib/python3.10/dist-packages (from requests-oauthlib>=0.7.0->google-auth-oauthlib<2,>=0.5->tensorboard<2.16,>=2.15->tensorflow->keras-squeezenet) (3.2.2)\n"
          ]
        }
      ],
      "source": [
        "!pip install keras-squeezenet\n",
        "import cv2\n",
        "import os\n",
        "import numpy as np\n",
        "from keras.applications import MobileNetV2\n",
        "from keras.optimizers import Adam\n",
        "from tensorflow.keras.utils import to_categorical\n",
        "from keras.layers import Dropout, GlobalAveragePooling2D, Dense\n",
        "from keras.models import Sequential\n",
        "from sklearn.model_selection import train_test_split"
      ]
    },
    {
      "cell_type": "code",
      "execution_count": null,
      "metadata": {
        "id": "iH1tW3acaGeb"
      },
      "outputs": [],
      "source": [
        "import cv2\n",
        "import os\n",
        "import numpy as np\n",
        "from keras.applications import MobileNetV2\n",
        "from keras.optimizers import Adam\n",
        "from tensorflow.keras.utils import to_categorical\n",
        "from keras.layers import Dropout, GlobalAveragePooling2D, Dense\n",
        "from keras.models import Sequential\n",
        "from sklearn.model_selection import train_test_split\n",
        "from zipfile import ZipFile"
      ]
    },
    {
      "cell_type": "code",
      "execution_count": null,
      "metadata": {
        "colab": {
          "base_uri": "https://localhost:8080/"
        },
        "id": "jbLRfumoaK-_",
        "outputId": "7ccba8ff-d5fb-495c-a53a-f17e9f174c41"
      },
      "outputs": [
        {
          "name": "stdout",
          "output_type": "stream",
          "text": [
            "Drive already mounted at /content/drive; to attempt to forcibly remount, call drive.mount(\"/content/drive\", force_remount=True).\n"
          ]
        }
      ],
      "source": [
        "from google.colab import drive\n",
        "drive.mount('/content/drive')\n",
        "zip_file_path = '/content/drive/MyDrive/archive.zip'"
      ]
    },
    {
      "cell_type": "code",
      "execution_count": null,
      "metadata": {
        "id": "4I0UmYlkaRLV"
      },
      "outputs": [],
      "source": [
        "def filter_best_images(data_path, max_images_per_class=1500):\n",
        "    \"\"\"Selects the best 1500 images per class, resizes them to (64, 64), and returns NumPy arrays.\"\"\"\n",
        "    dataset = []\n",
        "    for directory in os.listdir(data_path):\n",
        "        path = os.path.join(data_path, directory)\n",
        "        if not os.path.isdir(path):\n",
        "            continue\n",
        "        count = 0  # Keep track of images per class\n",
        "        for item in os.listdir(path):\n",
        "            if count >= max_images_per_class:\n",
        "                break\n",
        "            img = cv2.imread(os.path.join(path, item))\n",
        "            img = cv2.cvtColor(img, cv2.COLOR_BGR2RGB)\n",
        "            img = cv2.resize(img, (64, 64))  # Resize to (64, 64)\n",
        "            dataset.append([img, directory])\n",
        "            count += 1\n",
        "    data, labels = zip(*dataset)\n",
        "    return np.array(data), labels"
      ]
    },
    {
      "cell_type": "code",
      "execution_count": null,
      "metadata": {
        "id": "sYN6KXuIadWj"
      },
      "outputs": [],
      "source": [
        "import zipfile\n",
        "extracted_folder_path = '/content/extracted_contents'\n",
        "\n",
        "with zipfile.ZipFile(zip_file_path, 'r') as zip_ref:\n",
        "    zip_ref.extractall(extracted_folder_path)"
      ]
    },
    {
      "cell_type": "code",
      "execution_count": null,
      "metadata": {
        "colab": {
          "base_uri": "https://localhost:8080/"
        },
        "id": "AWlcm_ctaugu",
        "outputId": "dc6ab1f6-f875-4dad-bad7-714f81fbba11"
      },
      "outputs": [
        {
          "name": "stdout",
          "output_type": "stream",
          "text": [
            "['T', 'P', 'B', 'nothing', 'K', 'W', 'S', 'H', 'F', 'U', 'N', 'D', 'J', 'X', 'R', 'M', 'del', 'E', 'A', 'Z', 'Q', 'L', 'O', 'space', 'V', 'G', 'I', 'Y', 'C']\n"
          ]
        }
      ],
      "source": [
        "DATA_PATH = \"/content/extracted_contents/asl_alphabet_train/asl_alphabet_train\"\n",
        "print(os.listdir(DATA_PATH))"
      ]
    },
    {
      "cell_type": "code",
      "execution_count": null,
      "metadata": {
        "id": "jsYA1jTQavgS"
      },
      "outputs": [],
      "source": [
        "CODES = {\"nothing\": 0}\n",
        "def make_labels():\n",
        "    alpha = \"ABCDEFGHIJKLMNOPQRSTUVWXYZ\"\n",
        "    for i in range(1, 27):\n",
        "        CODES[alpha[i - 1]] = i\n",
        "\n",
        "    CODES[\"del\"] = 27\n",
        "    CODES[\"space\"] = 28\n",
        "    return CODES"
      ]
    },
    {
      "cell_type": "code",
      "execution_count": null,
      "metadata": {
        "id": "wgvqeaUca_W6"
      },
      "outputs": [],
      "source": [
        "def code_conv(label, codes):\n",
        "    return codes[label]"
      ]
    },
    {
      "cell_type": "code",
      "execution_count": null,
      "metadata": {
        "id": "oVg4lPSDbC6A"
      },
      "outputs": [],
      "source": [
        "def load_images(data_path, max_images_per_class=1500, image_size=(64, 64)):\n",
        "    \"\"\"Load images, filter the best 1500 per class, resize to given size, and return NumPy arrays.\"\"\"\n",
        "    dataset = []\n",
        "    for directory in os.listdir(data_path):\n",
        "        path = os.path.join(data_path, directory)\n",
        "        if not os.path.isdir(path):\n",
        "            continue\n",
        "        count = 0\n",
        "        for item in os.listdir(path):\n",
        "            if count >= max_images_per_class:\n",
        "                break\n",
        "            img = cv2.imread(os.path.join(path, item))\n",
        "            img = cv2.cvtColor(img, cv2.COLOR_BGR2RGB)\n",
        "            img = cv2.resize(img, image_size)\n",
        "            dataset.append([img, directory])\n",
        "            count += 1\n",
        "    data, labels = zip(*dataset)\n",
        "    return np.array(data), labels"
      ]
    },
    {
      "cell_type": "code",
      "execution_count": null,
      "metadata": {
        "id": "PGn-i6xqbHrt"
      },
      "outputs": [],
      "source": [
        "def preprocess_labels(labels, codes):\n",
        "    labels = list(map(lambda x: code_conv(x, codes), labels))\n",
        "    return to_categorical(labels, num_classes=len(codes))"
      ]
    },
    {
      "cell_type": "code",
      "execution_count": null,
      "metadata": {
        "id": "iTTyBqnJbNDH"
      },
      "outputs": [],
      "source": [
        "def normalize_data(data):\n",
        "    return data.astype('float32') / 255.0"
      ]
    },
    {
      "cell_type": "code",
      "execution_count": null,
      "metadata": {
        "id": "A9eXWDapbPru"
      },
      "outputs": [],
      "source": [
        "extracted_folder_path = '/content/extracted_contents'\n",
        "DATA_PATH = os.path.join(extracted_folder_path, 'asl_alphabet_train/asl_alphabet_train')\n",
        "\n",
        "data, labels = filter_best_images(DATA_PATH)  # Filter images\n",
        "codes = make_labels()\n",
        "labels = preprocess_labels(labels, codes)\n",
        "data = normalize_data(data)\n",
        "\n",
        "# Data Split\n",
        "X_train, X_test, y_train, y_test = train_test_split(data, labels, test_size=0.3, random_state=42)  # 30% for holdout\n",
        "X_train, X_val, y_train, y_val = train_test_split(X_train, y_train, test_size=0.15/0.7, random_state=42)  # Of 70%"
      ]
    },
    {
      "cell_type": "code",
      "execution_count": null,
      "metadata": {
        "colab": {
          "base_uri": "https://localhost:8080/"
        },
        "id": "IaLHoXWbTZQc",
        "outputId": "e8ca7b17-cec7-480c-b789-0019264219f5"
      },
      "outputs": [
        {
          "output_type": "stream",
          "name": "stdout",
          "text": [
            "Accuracy of the quantized model: 91.77777777777779 %\n"
          ]
        }
      ],
      "source": [
        "import numpy as np\n",
        "import tensorflow as tf\n",
        "\n",
        "# Load the TensorFlow Lite model\n",
        "interpreter = tf.lite.Interpreter(model_path=\"mobilenet_model_kd.tflite\")\n",
        "interpreter.allocate_tensors()\n",
        "\n",
        "# Get input and output tensors\n",
        "input_details = interpreter.get_input_details()\n",
        "output_details = interpreter.get_output_details()\n",
        "\n",
        "# Assume your test data and labels are in X_test, y_test (from your original code)\n",
        "\n",
        "correct_count = 0\n",
        "total_count = len(X_test)\n",
        "\n",
        "for i in range(total_count):\n",
        "  input_data = np.expand_dims(X_test[i], axis=0)  # Adjust if your model expects a different shape\n",
        "  interpreter.set_tensor(input_details[0]['index'], input_data)\n",
        "  interpreter.invoke()\n",
        "\n",
        "  output_data = interpreter.get_tensor(output_details[0]['index'])\n",
        "  predicted_label = np.argmax(output_data[0])\n",
        "  true_label = np.argmax(y_test[i])\n",
        "\n",
        "  if predicted_label == true_label:\n",
        "    correct_count += 1\n",
        "\n",
        "accuracy = correct_count / total_count * 100\n",
        "\n",
        "print(\"Accuracy of the quantized model:\", accuracy, \"%\")\n"
      ]
    },
    {
      "cell_type": "code",
      "execution_count": null,
      "metadata": {
        "colab": {
          "background_save": true
        },
        "id": "uZOI0HDCfG1n"
      },
      "outputs": [],
      "source": [
        "from google.colab import files\n",
        "\n",
        "model.save('mobilenet_model_kd.h5')\n",
        "\n",
        "# Download the model file\n",
        "files.download('mobilenet_model_kd.h5')"
      ]
    },
    {
      "cell_type": "code",
      "execution_count": null,
      "metadata": {
        "colab": {
          "background_save": true
        },
        "id": "nGgikckzfL_u"
      },
      "outputs": [],
      "source": [
        "import matplotlib.pyplot as plt\n",
        "\n",
        "# Extract training and validation accuracy and loss from history\n",
        "training_accuracy = history_student.history['accuracy']\n",
        "validation_accuracy = history_student.history['val_accuracy']\n",
        "loss = history_student.history['loss']\n",
        "val_loss = history_student.history['val_loss']"
      ]
    },
    {
      "cell_type": "code",
      "execution_count": null,
      "metadata": {
        "colab": {
          "background_save": true
        },
        "id": "wIRz7-4sfR2u"
      },
      "outputs": [],
      "source": [
        "# Plot accuracy\n",
        "plt.figure(figsize=(10, 5))\n",
        "plt.plot(training_accuracy, label='Training Accuracy')\n",
        "plt.plot(validation_accuracy, label='Validation Accuracy')\n",
        "plt.title('Training and Validation Accuracy')\n",
        "plt.xlabel('Epoch')\n",
        "plt.ylabel('Accuracy')\n",
        "plt.legend()\n",
        "plt.show()"
      ]
    },
    {
      "cell_type": "code",
      "execution_count": null,
      "metadata": {
        "colab": {
          "background_save": true
        },
        "id": "tsTn-0IYfVQY"
      },
      "outputs": [],
      "source": [
        "# Plot loss\n",
        "plt.figure(figsize=(10, 5))\n",
        "plt.plot(loss, label='Training Loss')\n",
        "plt.plot(val_loss, label='Validation Loss')\n",
        "plt.title('Training and Validation Loss')\n",
        "plt.xlabel('Epoch')\n",
        "plt.ylabel('Loss')\n",
        "plt.legend()\n",
        "plt.show()"
      ]
    }
  ],
  "metadata": {
    "accelerator": "GPU",
    "colab": {
      "gpuType": "T4",
      "provenance": []
    },
    "kernelspec": {
      "display_name": "Python 3",
      "name": "python3"
    },
    "language_info": {
      "name": "python"
    }
  },
  "nbformat": 4,
  "nbformat_minor": 0
}